{
 "cells": [
  {
   "cell_type": "code",
   "execution_count": null,
   "id": "suffering-louis",
   "metadata": {},
   "outputs": [],
   "source": [
    "import os\n",
    "os.chdir(os.getcwd() + '/Models/')\n",
    "from leia import SentimentIntensityAnalyzer\n",
    "from textblob import TextBlob\n",
    "from textblob.classifiers import NaiveBayesClassifier\n",
    "import spacy\n",
    "import re"
   ]
  },
  {
   "cell_type": "markdown",
   "id": "vocational-buffer",
   "metadata": {},
   "source": [
    "## LeIA"
   ]
  },
  {
   "cell_type": "code",
   "execution_count": null,
   "id": "usual-grammar",
   "metadata": {},
   "outputs": [],
   "source": [
    "analyzer = SentimentIntensityAnalyzer()\n",
    "def leia(text):\n",
    "    text = str(text)\n",
    "    result = analyzer.polarity_scores(text)\n",
    "    \n",
    "    #analisa a frase utilizando o compound\n",
    "    if result['compound'] >= 0.05:\n",
    "        return 'positivo'\n",
    "    elif result['compound'] <= -0.05:\n",
    "        return 'negativo'\n",
    "    else:\n",
    "        return 'neutro'"
   ]
  },
  {
   "cell_type": "markdown",
   "id": "biological-finish",
   "metadata": {},
   "source": [
    "## TextBlob + ReLi"
   ]
  },
  {
   "cell_type": "code",
   "execution_count": null,
   "id": "touched-costs",
   "metadata": {},
   "outputs": [],
   "source": [
    "base_path = 'ReLi-Lex'\n",
    "train = []\n",
    "wordsPT = []\n",
    "wordsPT_sentiments = []\n",
    "\n",
    "files = [os.path.join(base_path, f) for f in os.listdir(base_path)]\n",
    "\n",
    "for file in files:\n",
    "    t = 1 if '_Positivos' in file else -1\n",
    "    with open(file, 'r', encoding=\"ISO-8859-1\") as content_file:\n",
    "        content = content_file.read()\n",
    "        all = re.findall('\\[.*?\\]',content)\n",
    "        for w in all:\n",
    "            wordsPT.append((w[1:-1]))\n",
    "            wordsPT_sentiments.append(t)\n",
    "            train.append((w[1:-1], t))"
   ]
  },
  {
   "cell_type": "code",
   "execution_count": null,
   "id": "young-boards",
   "metadata": {},
   "outputs": [],
   "source": [
    "def textblob(sentence):\n",
    "    sentence = str(sentence)\n",
    "    blob = TextBlob(sentence, classifier=NaiveBayesClassifier(train))\n",
    "    result = 0\n",
    "    \n",
    "    for sent in blob.sentences:\n",
    "        result += sent.classify()\n",
    "    \n",
    "    if result > 0:\n",
    "        return 'positivo'\n",
    "    elif result < 0:\n",
    "        return 'negativo'\n",
    "    else:\n",
    "        return 'neutro'"
   ]
  },
  {
   "cell_type": "markdown",
   "id": "swiss-solid",
   "metadata": {},
   "source": [
    "## OpLexion"
   ]
  },
  {
   "cell_type": "code",
   "execution_count": null,
   "id": "pointed-anthropology",
   "metadata": {},
   "outputs": [],
   "source": [
    "with open('lexico_v3.0.txt', 'r') as f:\n",
    "    lines = f.readlines()\n",
    "\n",
    "lines = [str(x.strip()) for x in lines]\n",
    "pol_dict = {}\n",
    "\n",
    "for line in lines:\n",
    "    word, _, pol, _ = line.split(',')\n",
    "    \n",
    "    if word not in pol_dict.keys():\n",
    "        pol_dict[word] = pol"
   ]
  },
  {
   "cell_type": "code",
   "execution_count": null,
   "id": "wrong-words",
   "metadata": {},
   "outputs": [],
   "source": [
    "nlp = spacy.load('pt_core_news_sm')\n",
    "def oplexion(text):\n",
    "    text = str(text)\n",
    "    doc = nlp(text)\n",
    "    pol = 0\n",
    "    \n",
    "    for token in doc:\n",
    "        if token.text in pol_dict.keys():\n",
    "            if token.pos_ == 'VERB':\n",
    "                if token.lemma_ in pol_dict.keys():\n",
    "                    pol += int(pol_dict[str(token.lemma_)])\n",
    "                else:\n",
    "                    pol += int(pol_dict[str(token.text)])\n",
    "            else:\n",
    "                pol += int(pol_dict[str(token.text)])\n",
    "        else:\n",
    "            pol += 0\n",
    "        \n",
    "    if pol > 0:\n",
    "        return 'positivo'\n",
    "    elif pol < 0:\n",
    "        return 'negativo'\n",
    "    else:\n",
    "        return 'neutro'"
   ]
  },
  {
   "cell_type": "markdown",
   "id": "isolated-acting",
   "metadata": {},
   "source": [
    "## SentiLex"
   ]
  },
  {
   "cell_type": "code",
   "execution_count": null,
   "id": "unnecessary-flexibility",
   "metadata": {},
   "outputs": [],
   "source": [
    "with open('SentiLex-lem-PT01.txt', 'r') as f:\n",
    "    lines = f.readlines()\n",
    "\n",
    "lines = [str(x.strip()) for x in lines]\n",
    "pol_dict = {}\n",
    "\n",
    "for line in lines:\n",
    "    word, infos = line.split('.')\n",
    "    pol = infos.split(';')\n",
    "    pol = pol[3]\n",
    "    pol = pol[4:]\n",
    "    \n",
    "    if word not in pol_dict.keys():\n",
    "        pol_dict[word] = pol"
   ]
  },
  {
   "cell_type": "code",
   "execution_count": null,
   "id": "nearby-begin",
   "metadata": {},
   "outputs": [],
   "source": [
    "def sentilex(text):\n",
    "    text = str(text)\n",
    "    doc = nlp(text)\n",
    "    pol = 0\n",
    "    \n",
    "    for token in doc:\n",
    "        try:\n",
    "            if token.pos_ == 'VERB':\n",
    "                pol += int(pol_dict[str(token.lemma_)])\n",
    "            else:\n",
    "                pol += int(pol_dict[str(token.text)])\n",
    "        except KeyError:\n",
    "            pol += 0\n",
    "        \n",
    "    if pol > 0:\n",
    "        return 'positivo'\n",
    "    elif pol < 0:\n",
    "        return 'negativo'\n",
    "    else:\n",
    "        return 'neutro'"
   ]
  }
 ],
 "metadata": {
  "kernelspec": {
   "display_name": "Python 3",
   "language": "python",
   "name": "python3"
  },
  "language_info": {
   "codemirror_mode": {
    "name": "ipython",
    "version": 3
   },
   "file_extension": ".py",
   "mimetype": "text/x-python",
   "name": "python",
   "nbconvert_exporter": "python",
   "pygments_lexer": "ipython3",
   "version": "3.8.6"
  }
 },
 "nbformat": 4,
 "nbformat_minor": 5
}
